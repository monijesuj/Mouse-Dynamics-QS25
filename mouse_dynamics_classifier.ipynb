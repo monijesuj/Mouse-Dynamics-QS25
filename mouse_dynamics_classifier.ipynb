{
 "cells": [
  {
   "cell_type": "markdown",
   "id": "3584c756",
   "metadata": {},
   "source": [
    "# Mouse Dynamics Classification\n",
    "\n",
    "This notebook implements a machine learning model to classify mouse movement sessions as legal or illegal based on behavioral patterns."
   ]
  },
  {
   "cell_type": "markdown",
   "id": "a07ebd93",
   "metadata": {},
   "source": [
    "## 1. Import Required Libraries"
   ]
  },
  {
   "cell_type": "code",
   "execution_count": 1,
   "id": "4f77d001",
   "metadata": {},
   "outputs": [],
   "source": [
    "import pandas as pd\n",
    "import numpy as np\n",
    "import os\n",
    "import glob\n",
    "from sklearn.model_selection import train_test_split\n",
    "from sklearn.ensemble import RandomForestClassifier\n",
    "from sklearn.metrics import accuracy_score, classification_report, confusion_matrix\n",
    "from sklearn.preprocessing import StandardScaler\n",
    "import matplotlib.pyplot as plt\n",
    "import seaborn as sns\n",
    "from scipy import stats\n",
    "import warnings\n",
    "warnings.filterwarnings('ignore')\n",
    "\n",
    "# Set random seed for reproducibility\n",
    "np.random.seed(42)"
   ]
  },
  {
   "cell_type": "markdown",
   "id": "db38f2b4",
   "metadata": {},
   "source": [
    "## 2. Load and Explore Data Structure"
   ]
  },
  {
   "cell_type": "code",
   "execution_count": 2,
   "id": "eed43662",
   "metadata": {},
   "outputs": [
    {
     "name": "stdout",
     "output_type": "stream",
     "text": [
      "Labels structure:\n",
      "             filename  is_illegal\n",
      "0  session_0003960194           1\n",
      "1  session_0005840196           0\n",
      "2  session_0025450757           0\n",
      "3  session_0029922803           0\n",
      "4  session_0064281061           1\n",
      "\n",
      "Total labeled sessions: 816\n",
      "Legal sessions: 411\n",
      "Illegal sessions: 405\n"
     ]
    }
   ],
   "source": [
    "# Load public labels\n",
    "labels_df = pd.read_csv('public_labels.csv')\n",
    "print(\"Labels structure:\")\n",
    "print(labels_df.head())\n",
    "print(f\"\\nTotal labeled sessions: {len(labels_df)}\")\n",
    "print(f\"Legal sessions: {(labels_df['is_illegal'] == 0).sum()}\")\n",
    "print(f\"Illegal sessions: {(labels_df['is_illegal'] == 1).sum()}\")"
   ]
  },
  {
   "cell_type": "code",
   "execution_count": 3,
   "id": "54aabb2b",
   "metadata": {},
   "outputs": [
    {
     "name": "stdout",
     "output_type": "stream",
     "text": [
      "Training users: ['user20', 'user16', 'user12', 'user35', 'user29', 'user15', 'user9', 'user7', 'user23', 'user21']\n",
      "\n",
      "Sample session data structure:\n",
      "   record timestamp  client timestamp    button state    x    y\n",
      "0             0.000             0.000  NoButton  Move  498  513\n",
      "1             0.112             0.031  NoButton  Move  485  493\n",
      "2             0.112             0.031  NoButton  Move  448  441\n",
      "3             0.112             0.047  NoButton  Move  393  370\n",
      "4             0.112             0.062  NoButton  Move  315  280\n",
      "\n",
      "Columns: ['record timestamp', 'client timestamp', 'button', 'state', 'x', 'y']\n",
      "Data shape: (60087, 6)\n"
     ]
    }
   ],
   "source": [
    "# Explore training data structure\n",
    "training_users = os.listdir('training_files')\n",
    "print(f\"Training users: {training_users}\")\n",
    "\n",
    "# Sample a training file to understand format\n",
    "sample_file = f'training_files/{training_users[0]}/{os.listdir(f\"training_files/{training_users[0]}\")[0]}'\n",
    "sample_data = pd.read_csv(sample_file)\n",
    "print(f\"\\nSample session data structure:\")\n",
    "print(sample_data.head())\n",
    "print(f\"\\nColumns: {sample_data.columns.tolist()}\")\n",
    "print(f\"Data shape: {sample_data.shape}\")"
   ]
  },
  {
   "cell_type": "markdown",
   "id": "b10f1397",
   "metadata": {},
   "source": [
    "## 3. Feature Engineering Functions"
   ]
  },
  {
   "cell_type": "code",
   "execution_count": 4,
   "id": "ab24d9dc",
   "metadata": {},
   "outputs": [],
   "source": [
    "def extract_features_from_session(file_path):\n",
    "    \"\"\"\n",
    "    Extract features from a single mouse session file\n",
    "    \"\"\"\n",
    "    try:\n",
    "        df = pd.read_csv(file_path)\n",
    "        \n",
    "        # Basic statistics\n",
    "        total_actions = len(df)\n",
    "        total_time = df['record timestamp'].max() - df['record timestamp'].min()\n",
    "        \n",
    "        # Movement features\n",
    "        df['dx'] = df['x'].diff()\n",
    "        df['dy'] = df['y'].diff()\n",
    "        df['distance'] = np.sqrt(df['dx']**2 + df['dy']**2)\n",
    "        df['dt'] = df['record timestamp'].diff()\n",
    "        \n",
    "        # Velocity and acceleration\n",
    "        df['velocity'] = df['distance'] / df['dt'].replace(0, np.nan)\n",
    "        df['acceleration'] = df['velocity'].diff() / df['dt'].replace(0, np.nan)\n",
    "        \n",
    "        # Remove infinite and NaN values for calculations\n",
    "        df = df.replace([np.inf, -np.inf], np.nan).dropna()\n",
    "        \n",
    "        if len(df) == 0:\n",
    "            return None\n",
    "        \n",
    "        features = {\n",
    "            # Basic session features\n",
    "            'total_actions': total_actions,\n",
    "            'session_duration': total_time,\n",
    "            'actions_per_second': total_actions / max(total_time, 0.001),\n",
    "            \n",
    "            # Movement statistics\n",
    "            'mean_distance': df['distance'].mean(),\n",
    "            'std_distance': df['distance'].std(),\n",
    "            'max_distance': df['distance'].max(),\n",
    "            'total_distance': df['distance'].sum(),\n",
    "            \n",
    "            # Velocity statistics\n",
    "            'mean_velocity': df['velocity'].mean(),\n",
    "            'std_velocity': df['velocity'].std(),\n",
    "            'max_velocity': df['velocity'].max(),\n",
    "            \n",
    "            # Acceleration statistics\n",
    "            'mean_acceleration': df['acceleration'].mean(),\n",
    "            'std_acceleration': df['acceleration'].std(),\n",
    "            'max_acceleration': df['acceleration'].max(),\n",
    "            \n",
    "            # Coordinate range\n",
    "            'x_range': df['x'].max() - df['x'].min(),\n",
    "            'y_range': df['y'].max() - df['y'].min(),\n",
    "            'x_mean': df['x'].mean(),\n",
    "            'y_mean': df['y'].mean(),\n",
    "            \n",
    "            # Click behavior\n",
    "            'click_count': len(df[df['state'] == 'Pressed']),\n",
    "            'move_count': len(df[df['state'] == 'Move']),\n",
    "            'release_count': len(df[df['state'] == 'Released']),\n",
    "            \n",
    "            # Time intervals\n",
    "            'mean_time_interval': df['dt'].mean(),\n",
    "            'std_time_interval': df['dt'].std(),\n",
    "            \n",
    "            # Pause behavior (long intervals between actions)\n",
    "            'long_pauses': len(df[df['dt'] > df['dt'].quantile(0.95)]),\n",
    "            'pause_ratio': len(df[df['dt'] > df['dt'].quantile(0.95)]) / len(df),\n",
    "        }\n",
    "        \n",
    "        return features\n",
    "    \n",
    "    except Exception as e:\n",
    "        print(f\"Error processing {file_path}: {e}\")\n",
    "        return None"
   ]
  },
  {
   "cell_type": "markdown",
   "id": "4d7fb133",
   "metadata": {},
   "source": [
    "## 4. Data Loading and Feature Extraction"
   ]
  },
  {
   "cell_type": "code",
   "execution_count": 5,
   "id": "2df4bb07",
   "metadata": {},
   "outputs": [
    {
     "name": "stdout",
     "output_type": "stream",
     "text": [
      "Found 65 training sessions\n",
      "Processed 10/65 files\n",
      "Processed 20/65 files\n",
      "Processed 30/65 files\n",
      "Processed 40/65 files\n",
      "Processed 50/65 files\n",
      "Processed 60/65 files\n",
      "\n",
      "Successfully extracted features from 0 sessions\n",
      "Legal sessions: 0\n",
      "Illegal sessions: 0\n"
     ]
    }
   ],
   "source": [
    "def load_training_data():\n",
    "    \"\"\"\n",
    "    Load all training data and extract features\n",
    "    \"\"\"\n",
    "    training_features = []\n",
    "    training_labels = []\n",
    "    session_names = []\n",
    "    \n",
    "    # Get all training files\n",
    "    training_files = []\n",
    "    for user_dir in os.listdir('training_files'):\n",
    "        user_path = os.path.join('training_files', user_dir)\n",
    "        if os.path.isdir(user_path):\n",
    "            for session_file in os.listdir(user_path):\n",
    "                training_files.append(os.path.join(user_path, session_file))\n",
    "    \n",
    "    print(f\"Found {len(training_files)} training sessions\")\n",
    "    \n",
    "    # Load labels into a dictionary for quick lookup\n",
    "    labels_dict = dict(zip(labels_df['filename'], labels_df['is_illegal']))\n",
    "    \n",
    "    for i, file_path in enumerate(training_files):\n",
    "        session_name = os.path.basename(file_path)\n",
    "        \n",
    "        # Check if this session has a label\n",
    "        if session_name in labels_dict:\n",
    "            features = extract_features_from_session(file_path)\n",
    "            if features is not None:\n",
    "                training_features.append(features)\n",
    "                training_labels.append(labels_dict[session_name])\n",
    "                session_names.append(session_name)\n",
    "        \n",
    "        if (i + 1) % 10 == 0:\n",
    "            print(f\"Processed {i + 1}/{len(training_files)} files\")\n",
    "    \n",
    "    # Convert to DataFrame\n",
    "    features_df = pd.DataFrame(training_features)\n",
    "    \n",
    "    print(f\"\\nSuccessfully extracted features from {len(features_df)} sessions\")\n",
    "    print(f\"Legal sessions: {(np.array(training_labels) == 0).sum()}\")\n",
    "    print(f\"Illegal sessions: {(np.array(training_labels) == 1).sum()}\")\n",
    "    \n",
    "    return features_df, np.array(training_labels), session_names\n",
    "\n",
    "# Load training data\n",
    "X_train, y_train, train_session_names = load_training_data()"
   ]
  },
  {
   "cell_type": "markdown",
   "id": "9ca67ba8",
   "metadata": {},
   "source": [
    "## 5. Exploratory Data Analysis"
   ]
  },
  {
   "cell_type": "code",
   "execution_count": 6,
   "id": "0a179c40",
   "metadata": {},
   "outputs": [
    {
     "name": "stdout",
     "output_type": "stream",
     "text": [
      "Training features shape: (0, 0)\n",
      "\n",
      "Feature columns:\n",
      "[]\n",
      "\n",
      "Missing values per feature:\n",
      "Series([], dtype: float64)\n",
      "\n",
      "Basic statistics:\n"
     ]
    },
    {
     "ename": "ValueError",
     "evalue": "Cannot describe a DataFrame without columns",
     "output_type": "error",
     "traceback": [
      "\u001b[0;31m---------------------------------------------------------------------------\u001b[0m",
      "\u001b[0;31mValueError\u001b[0m                                Traceback (most recent call last)",
      "Cell \u001b[0;32mIn[6], line 12\u001b[0m\n\u001b[1;32m     10\u001b[0m \u001b[38;5;66;03m# Basic statistics\u001b[39;00m\n\u001b[1;32m     11\u001b[0m \u001b[38;5;28mprint\u001b[39m(\u001b[38;5;124m\"\u001b[39m\u001b[38;5;130;01m\\n\u001b[39;00m\u001b[38;5;124mBasic statistics:\u001b[39m\u001b[38;5;124m\"\u001b[39m)\n\u001b[0;32m---> 12\u001b[0m \u001b[43mX_train\u001b[49m\u001b[38;5;241;43m.\u001b[39;49m\u001b[43mdescribe\u001b[49m\u001b[43m(\u001b[49m\u001b[43m)\u001b[49m\n",
      "File \u001b[0;32m~/anaconda3/envs/iw2025/lib/python3.9/site-packages/pandas/core/generic.py:11995\u001b[0m, in \u001b[0;36mNDFrame.describe\u001b[0;34m(self, percentiles, include, exclude)\u001b[0m\n\u001b[1;32m  11753\u001b[0m \u001b[38;5;129m@final\u001b[39m\n\u001b[1;32m  11754\u001b[0m \u001b[38;5;28;01mdef\u001b[39;00m\u001b[38;5;250m \u001b[39m\u001b[38;5;21mdescribe\u001b[39m(\n\u001b[1;32m  11755\u001b[0m     \u001b[38;5;28mself\u001b[39m,\n\u001b[0;32m   (...)\u001b[0m\n\u001b[1;32m  11758\u001b[0m     exclude\u001b[38;5;241m=\u001b[39m\u001b[38;5;28;01mNone\u001b[39;00m,\n\u001b[1;32m  11759\u001b[0m ) \u001b[38;5;241m-\u001b[39m\u001b[38;5;241m>\u001b[39m Self:\n\u001b[1;32m  11760\u001b[0m \u001b[38;5;250m    \u001b[39m\u001b[38;5;124;03m\"\"\"\u001b[39;00m\n\u001b[1;32m  11761\u001b[0m \u001b[38;5;124;03m    Generate descriptive statistics.\u001b[39;00m\n\u001b[1;32m  11762\u001b[0m \n\u001b[0;32m   (...)\u001b[0m\n\u001b[1;32m  11993\u001b[0m \u001b[38;5;124;03m    max            NaN      3.0\u001b[39;00m\n\u001b[1;32m  11994\u001b[0m \u001b[38;5;124;03m    \"\"\"\u001b[39;00m\n\u001b[0;32m> 11995\u001b[0m     \u001b[38;5;28;01mreturn\u001b[39;00m \u001b[43mdescribe_ndframe\u001b[49m\u001b[43m(\u001b[49m\n\u001b[1;32m  11996\u001b[0m \u001b[43m        \u001b[49m\u001b[43mobj\u001b[49m\u001b[38;5;241;43m=\u001b[39;49m\u001b[38;5;28;43mself\u001b[39;49m\u001b[43m,\u001b[49m\n\u001b[1;32m  11997\u001b[0m \u001b[43m        \u001b[49m\u001b[43minclude\u001b[49m\u001b[38;5;241;43m=\u001b[39;49m\u001b[43minclude\u001b[49m\u001b[43m,\u001b[49m\n\u001b[1;32m  11998\u001b[0m \u001b[43m        \u001b[49m\u001b[43mexclude\u001b[49m\u001b[38;5;241;43m=\u001b[39;49m\u001b[43mexclude\u001b[49m\u001b[43m,\u001b[49m\n\u001b[1;32m  11999\u001b[0m \u001b[43m        \u001b[49m\u001b[43mpercentiles\u001b[49m\u001b[38;5;241;43m=\u001b[39;49m\u001b[43mpercentiles\u001b[49m\u001b[43m,\u001b[49m\n\u001b[1;32m  12000\u001b[0m \u001b[43m    \u001b[49m\u001b[43m)\u001b[49m\u001b[38;5;241m.\u001b[39m__finalize__(\u001b[38;5;28mself\u001b[39m, method\u001b[38;5;241m=\u001b[39m\u001b[38;5;124m\"\u001b[39m\u001b[38;5;124mdescribe\u001b[39m\u001b[38;5;124m\"\u001b[39m)\n",
      "File \u001b[0;32m~/anaconda3/envs/iw2025/lib/python3.9/site-packages/pandas/core/methods/describe.py:91\u001b[0m, in \u001b[0;36mdescribe_ndframe\u001b[0;34m(obj, include, exclude, percentiles)\u001b[0m\n\u001b[1;32m     87\u001b[0m     describer \u001b[38;5;241m=\u001b[39m SeriesDescriber(\n\u001b[1;32m     88\u001b[0m         obj\u001b[38;5;241m=\u001b[39mcast(\u001b[38;5;124m\"\u001b[39m\u001b[38;5;124mSeries\u001b[39m\u001b[38;5;124m\"\u001b[39m, obj),\n\u001b[1;32m     89\u001b[0m     )\n\u001b[1;32m     90\u001b[0m \u001b[38;5;28;01melse\u001b[39;00m:\n\u001b[0;32m---> 91\u001b[0m     describer \u001b[38;5;241m=\u001b[39m \u001b[43mDataFrameDescriber\u001b[49m\u001b[43m(\u001b[49m\n\u001b[1;32m     92\u001b[0m \u001b[43m        \u001b[49m\u001b[43mobj\u001b[49m\u001b[38;5;241;43m=\u001b[39;49m\u001b[43mcast\u001b[49m\u001b[43m(\u001b[49m\u001b[38;5;124;43m\"\u001b[39;49m\u001b[38;5;124;43mDataFrame\u001b[39;49m\u001b[38;5;124;43m\"\u001b[39;49m\u001b[43m,\u001b[49m\u001b[43m \u001b[49m\u001b[43mobj\u001b[49m\u001b[43m)\u001b[49m\u001b[43m,\u001b[49m\n\u001b[1;32m     93\u001b[0m \u001b[43m        \u001b[49m\u001b[43minclude\u001b[49m\u001b[38;5;241;43m=\u001b[39;49m\u001b[43minclude\u001b[49m\u001b[43m,\u001b[49m\n\u001b[1;32m     94\u001b[0m \u001b[43m        \u001b[49m\u001b[43mexclude\u001b[49m\u001b[38;5;241;43m=\u001b[39;49m\u001b[43mexclude\u001b[49m\u001b[43m,\u001b[49m\n\u001b[1;32m     95\u001b[0m \u001b[43m    \u001b[49m\u001b[43m)\u001b[49m\n\u001b[1;32m     97\u001b[0m result \u001b[38;5;241m=\u001b[39m describer\u001b[38;5;241m.\u001b[39mdescribe(percentiles\u001b[38;5;241m=\u001b[39mpercentiles)\n\u001b[1;32m     98\u001b[0m \u001b[38;5;28;01mreturn\u001b[39;00m cast(NDFrameT, result)\n",
      "File \u001b[0;32m~/anaconda3/envs/iw2025/lib/python3.9/site-packages/pandas/core/methods/describe.py:162\u001b[0m, in \u001b[0;36mDataFrameDescriber.__init__\u001b[0;34m(self, obj, include, exclude)\u001b[0m\n\u001b[1;32m    159\u001b[0m \u001b[38;5;28mself\u001b[39m\u001b[38;5;241m.\u001b[39mexclude \u001b[38;5;241m=\u001b[39m exclude\n\u001b[1;32m    161\u001b[0m \u001b[38;5;28;01mif\u001b[39;00m obj\u001b[38;5;241m.\u001b[39mndim \u001b[38;5;241m==\u001b[39m \u001b[38;5;241m2\u001b[39m \u001b[38;5;129;01mand\u001b[39;00m obj\u001b[38;5;241m.\u001b[39mcolumns\u001b[38;5;241m.\u001b[39msize \u001b[38;5;241m==\u001b[39m \u001b[38;5;241m0\u001b[39m:\n\u001b[0;32m--> 162\u001b[0m     \u001b[38;5;28;01mraise\u001b[39;00m \u001b[38;5;167;01mValueError\u001b[39;00m(\u001b[38;5;124m\"\u001b[39m\u001b[38;5;124mCannot describe a DataFrame without columns\u001b[39m\u001b[38;5;124m\"\u001b[39m)\n\u001b[1;32m    164\u001b[0m \u001b[38;5;28msuper\u001b[39m()\u001b[38;5;241m.\u001b[39m\u001b[38;5;21m__init__\u001b[39m(obj)\n",
      "\u001b[0;31mValueError\u001b[0m: Cannot describe a DataFrame without columns"
     ]
    }
   ],
   "source": [
    "# Display feature statistics\n",
    "print(\"Training features shape:\", X_train.shape)\n",
    "print(\"\\nFeature columns:\")\n",
    "print(X_train.columns.tolist())\n",
    "\n",
    "# Check for missing values\n",
    "print(\"\\nMissing values per feature:\")\n",
    "print(X_train.isnull().sum().sort_values(ascending=False))\n",
    "\n",
    "# Basic statistics\n",
    "print(\"\\nBasic statistics:\")\n",
    "X_train.describe()"
   ]
  },
  {
   "cell_type": "code",
   "execution_count": 7,
   "id": "e723db91",
   "metadata": {},
   "outputs": [
    {
     "data": {
      "image/png": "[encoded data removed]",
      "text/plain": [
       "<Figure size 1500x1000 with 6 Axes>"
      ]
     },
     "metadata": {},
     "output_type": "display_data"
    }
   ],
   "source": [
    "# Visualize feature distributions by class\n",
    "fig, axes = plt.subplots(2, 3, figsize=(15, 10))\n",
    "axes = axes.ravel()\n",
    "\n",
    "key_features = ['mean_velocity', 'std_velocity', 'click_count', 'pause_ratio', 'session_duration', 'actions_per_second']\n",
    "\n",
    "for i, feature in enumerate(key_features):\n",
    "    if feature in X_train.columns:\n",
    "        legal_data = X_train[y_train == 0][feature]\n",
    "        illegal_data = X_train[y_train == 1][feature]\n",
    "        \n",
    "        axes[i].hist(legal_data, alpha=0.5, label='Legal', bins=30)\n",
    "        axes[i].hist(illegal_data, alpha=0.5, label='Illegal', bins=30)\n",
    "        axes[i].set_title(f'{feature} Distribution')\n",
    "        axes[i].legend()\n",
    "        axes[i].set_xlabel(feature)\n",
    "        axes[i].set_ylabel('Frequency')\n",
    "\n",
    "plt.tight_layout()\n",
    "plt.show()"
   ]
  },
  {
   "cell_type": "markdown",
   "id": "6e0c1d98",
   "metadata": {},
   "source": [
    "## 6. Data Preprocessing"
   ]
  },
  {
   "cell_type": "code",
   "execution_count": 8,
   "id": "5b124922",
   "metadata": {},
   "outputs": [
    {
     "name": "stdout",
     "output_type": "stream",
     "text": [
      "Cleaned training data shape: (0, 0)\n",
      "Remaining missing values: 0.0\n"
     ]
    },
    {
     "ename": "ValueError",
     "evalue": "at least one array or dtype is required",
     "output_type": "error",
     "traceback": [
      "\u001b[0;31m---------------------------------------------------------------------------\u001b[0m",
      "\u001b[0;31mValueError\u001b[0m                                Traceback (most recent call last)",
      "Cell \u001b[0;32mIn[8], line 13\u001b[0m\n\u001b[1;32m     11\u001b[0m \u001b[38;5;66;03m# Scale features\u001b[39;00m\n\u001b[1;32m     12\u001b[0m scaler \u001b[38;5;241m=\u001b[39m StandardScaler()\n\u001b[0;32m---> 13\u001b[0m X_train_scaled \u001b[38;5;241m=\u001b[39m \u001b[43mscaler\u001b[49m\u001b[38;5;241;43m.\u001b[39;49m\u001b[43mfit_transform\u001b[49m\u001b[43m(\u001b[49m\u001b[43mX_train_clean\u001b[49m\u001b[43m)\u001b[49m\n\u001b[1;32m     14\u001b[0m X_train_scaled \u001b[38;5;241m=\u001b[39m pd\u001b[38;5;241m.\u001b[39mDataFrame(X_train_scaled, columns\u001b[38;5;241m=\u001b[39mX_train_clean\u001b[38;5;241m.\u001b[39mcolumns)\n\u001b[1;32m     16\u001b[0m \u001b[38;5;28mprint\u001b[39m(\u001b[38;5;124m\"\u001b[39m\u001b[38;5;130;01m\\n\u001b[39;00m\u001b[38;5;124mFeatures after scaling:\u001b[39m\u001b[38;5;124m\"\u001b[39m)\n",
      "File \u001b[0;32m~/anaconda3/envs/iw2025/lib/python3.9/site-packages/sklearn/utils/_set_output.py:319\u001b[0m, in \u001b[0;36m_wrap_method_output.<locals>.wrapped\u001b[0;34m(self, X, *args, **kwargs)\u001b[0m\n\u001b[1;32m    317\u001b[0m \u001b[38;5;129m@wraps\u001b[39m(f)\n\u001b[1;32m    318\u001b[0m \u001b[38;5;28;01mdef\u001b[39;00m\u001b[38;5;250m \u001b[39m\u001b[38;5;21mwrapped\u001b[39m(\u001b[38;5;28mself\u001b[39m, X, \u001b[38;5;241m*\u001b[39margs, \u001b[38;5;241m*\u001b[39m\u001b[38;5;241m*\u001b[39mkwargs):\n\u001b[0;32m--> 319\u001b[0m     data_to_wrap \u001b[38;5;241m=\u001b[39m \u001b[43mf\u001b[49m\u001b[43m(\u001b[49m\u001b[38;5;28;43mself\u001b[39;49m\u001b[43m,\u001b[49m\u001b[43m \u001b[49m\u001b[43mX\u001b[49m\u001b[43m,\u001b[49m\u001b[43m \u001b[49m\u001b[38;5;241;43m*\u001b[39;49m\u001b[43margs\u001b[49m\u001b[43m,\u001b[49m\u001b[43m \u001b[49m\u001b[38;5;241;43m*\u001b[39;49m\u001b[38;5;241;43m*\u001b[39;49m\u001b[43mkwargs\u001b[49m\u001b[43m)\u001b[49m\n\u001b[1;32m    320\u001b[0m     \u001b[38;5;28;01mif\u001b[39;00m \u001b[38;5;28misinstance\u001b[39m(data_to_wrap, \u001b[38;5;28mtuple\u001b[39m):\n\u001b[1;32m    321\u001b[0m         \u001b[38;5;66;03m# only wrap the first output for cross decomposition\u001b[39;00m\n\u001b[1;32m    322\u001b[0m         return_tuple \u001b[38;5;241m=\u001b[39m (\n\u001b[1;32m    323\u001b[0m             _wrap_data_with_container(method, data_to_wrap[\u001b[38;5;241m0\u001b[39m], X, \u001b[38;5;28mself\u001b[39m),\n\u001b[1;32m    324\u001b[0m             \u001b[38;5;241m*\u001b[39mdata_to_wrap[\u001b[38;5;241m1\u001b[39m:],\n\u001b[1;32m    325\u001b[0m         )\n",
      "File \u001b[0;32m~/anaconda3/envs/iw2025/lib/python3.9/site-packages/sklearn/base.py:918\u001b[0m, in \u001b[0;36mTransformerMixin.fit_transform\u001b[0;34m(self, X, y, **fit_params)\u001b[0m\n\u001b[1;32m    903\u001b[0m         warnings\u001b[38;5;241m.\u001b[39mwarn(\n\u001b[1;32m    904\u001b[0m             (\n\u001b[1;32m    905\u001b[0m                 \u001b[38;5;124mf\u001b[39m\u001b[38;5;124m\"\u001b[39m\u001b[38;5;124mThis object (\u001b[39m\u001b[38;5;132;01m{\u001b[39;00m\u001b[38;5;28mself\u001b[39m\u001b[38;5;241m.\u001b[39m\u001b[38;5;18m__class__\u001b[39m\u001b[38;5;241m.\u001b[39m\u001b[38;5;18m__name__\u001b[39m\u001b[38;5;132;01m}\u001b[39;00m\u001b[38;5;124m) has a `transform`\u001b[39m\u001b[38;5;124m\"\u001b[39m\n\u001b[0;32m   (...)\u001b[0m\n\u001b[1;32m    913\u001b[0m             \u001b[38;5;167;01mUserWarning\u001b[39;00m,\n\u001b[1;32m    914\u001b[0m         )\n\u001b[1;32m    916\u001b[0m \u001b[38;5;28;01mif\u001b[39;00m y \u001b[38;5;129;01mis\u001b[39;00m \u001b[38;5;28;01mNone\u001b[39;00m:\n\u001b[1;32m    917\u001b[0m     \u001b[38;5;66;03m# fit method of arity 1 (unsupervised transformation)\u001b[39;00m\n\u001b[0;32m--> 918\u001b[0m     \u001b[38;5;28;01mreturn\u001b[39;00m \u001b[38;5;28;43mself\u001b[39;49m\u001b[38;5;241;43m.\u001b[39;49m\u001b[43mfit\u001b[49m\u001b[43m(\u001b[49m\u001b[43mX\u001b[49m\u001b[43m,\u001b[49m\u001b[43m \u001b[49m\u001b[38;5;241;43m*\u001b[39;49m\u001b[38;5;241;43m*\u001b[39;49m\u001b[43mfit_params\u001b[49m\u001b[43m)\u001b[49m\u001b[38;5;241m.\u001b[39mtransform(X)\n\u001b[1;32m    919\u001b[0m \u001b[38;5;28;01melse\u001b[39;00m:\n\u001b[1;32m    920\u001b[0m     \u001b[38;5;66;03m# fit method of arity 2 (supervised transformation)\u001b[39;00m\n\u001b[1;32m    921\u001b[0m     \u001b[38;5;28;01mreturn\u001b[39;00m \u001b[38;5;28mself\u001b[39m\u001b[38;5;241m.\u001b[39mfit(X, y, \u001b[38;5;241m*\u001b[39m\u001b[38;5;241m*\u001b[39mfit_params)\u001b[38;5;241m.\u001b[39mtransform(X)\n",
      "File \u001b[0;32m~/anaconda3/envs/iw2025/lib/python3.9/site-packages/sklearn/preprocessing/_data.py:894\u001b[0m, in \u001b[0;36mStandardScaler.fit\u001b[0;34m(self, X, y, sample_weight)\u001b[0m\n\u001b[1;32m    892\u001b[0m \u001b[38;5;66;03m# Reset internal state before fitting\u001b[39;00m\n\u001b[1;32m    893\u001b[0m \u001b[38;5;28mself\u001b[39m\u001b[38;5;241m.\u001b[39m_reset()\n\u001b[0;32m--> 894\u001b[0m \u001b[38;5;28;01mreturn\u001b[39;00m \u001b[38;5;28;43mself\u001b[39;49m\u001b[38;5;241;43m.\u001b[39;49m\u001b[43mpartial_fit\u001b[49m\u001b[43m(\u001b[49m\u001b[43mX\u001b[49m\u001b[43m,\u001b[49m\u001b[43m \u001b[49m\u001b[43my\u001b[49m\u001b[43m,\u001b[49m\u001b[43m \u001b[49m\u001b[43msample_weight\u001b[49m\u001b[43m)\u001b[49m\n",
      "File \u001b[0;32m~/anaconda3/envs/iw2025/lib/python3.9/site-packages/sklearn/base.py:1389\u001b[0m, in \u001b[0;36m_fit_context.<locals>.decorator.<locals>.wrapper\u001b[0;34m(estimator, *args, **kwargs)\u001b[0m\n\u001b[1;32m   1382\u001b[0m     estimator\u001b[38;5;241m.\u001b[39m_validate_params()\n\u001b[1;32m   1384\u001b[0m \u001b[38;5;28;01mwith\u001b[39;00m config_context(\n\u001b[1;32m   1385\u001b[0m     skip_parameter_validation\u001b[38;5;241m=\u001b[39m(\n\u001b[1;32m   1386\u001b[0m         prefer_skip_nested_validation \u001b[38;5;129;01mor\u001b[39;00m global_skip_validation\n\u001b[1;32m   1387\u001b[0m     )\n\u001b[1;32m   1388\u001b[0m ):\n\u001b[0;32m-> 1389\u001b[0m     \u001b[38;5;28;01mreturn\u001b[39;00m \u001b[43mfit_method\u001b[49m\u001b[43m(\u001b[49m\u001b[43mestimator\u001b[49m\u001b[43m,\u001b[49m\u001b[43m \u001b[49m\u001b[38;5;241;43m*\u001b[39;49m\u001b[43margs\u001b[49m\u001b[43m,\u001b[49m\u001b[43m \u001b[49m\u001b[38;5;241;43m*\u001b[39;49m\u001b[38;5;241;43m*\u001b[39;49m\u001b[43mkwargs\u001b[49m\u001b[43m)\u001b[49m\n",
      "File \u001b[0;32m~/anaconda3/envs/iw2025/lib/python3.9/site-packages/sklearn/preprocessing/_data.py:930\u001b[0m, in \u001b[0;36mStandardScaler.partial_fit\u001b[0;34m(self, X, y, sample_weight)\u001b[0m\n\u001b[1;32m    898\u001b[0m \u001b[38;5;250m\u001b[39m\u001b[38;5;124;03m\"\"\"Online computation of mean and std on X for later scaling.\u001b[39;00m\n\u001b[1;32m    899\u001b[0m \n\u001b[1;32m    900\u001b[0m \u001b[38;5;124;03mAll of X is processed as a single batch. This is intended for cases\u001b[39;00m\n\u001b[0;32m   (...)\u001b[0m\n\u001b[1;32m    927\u001b[0m \u001b[38;5;124;03m    Fitted scaler.\u001b[39;00m\n\u001b[1;32m    928\u001b[0m \u001b[38;5;124;03m\"\"\"\u001b[39;00m\n\u001b[1;32m    929\u001b[0m first_call \u001b[38;5;241m=\u001b[39m \u001b[38;5;129;01mnot\u001b[39;00m \u001b[38;5;28mhasattr\u001b[39m(\u001b[38;5;28mself\u001b[39m, \u001b[38;5;124m\"\u001b[39m\u001b[38;5;124mn_samples_seen_\u001b[39m\u001b[38;5;124m\"\u001b[39m)\n\u001b[0;32m--> 930\u001b[0m X \u001b[38;5;241m=\u001b[39m \u001b[43mvalidate_data\u001b[49m\u001b[43m(\u001b[49m\n\u001b[1;32m    931\u001b[0m \u001b[43m    \u001b[49m\u001b[38;5;28;43mself\u001b[39;49m\u001b[43m,\u001b[49m\n\u001b[1;32m    932\u001b[0m \u001b[43m    \u001b[49m\u001b[43mX\u001b[49m\u001b[43m,\u001b[49m\n\u001b[1;32m    933\u001b[0m \u001b[43m    \u001b[49m\u001b[43maccept_sparse\u001b[49m\u001b[38;5;241;43m=\u001b[39;49m\u001b[43m(\u001b[49m\u001b[38;5;124;43m\"\u001b[39;49m\u001b[38;5;124;43mcsr\u001b[39;49m\u001b[38;5;124;43m\"\u001b[39;49m\u001b[43m,\u001b[49m\u001b[43m \u001b[49m\u001b[38;5;124;43m\"\u001b[39;49m\u001b[38;5;124;43mcsc\u001b[39;49m\u001b[38;5;124;43m\"\u001b[39;49m\u001b[43m)\u001b[49m\u001b[43m,\u001b[49m\n\u001b[1;32m    934\u001b[0m \u001b[43m    \u001b[49m\u001b[43mdtype\u001b[49m\u001b[38;5;241;43m=\u001b[39;49m\u001b[43mFLOAT_DTYPES\u001b[49m\u001b[43m,\u001b[49m\n\u001b[1;32m    935\u001b[0m \u001b[43m    \u001b[49m\u001b[43mensure_all_finite\u001b[49m\u001b[38;5;241;43m=\u001b[39;49m\u001b[38;5;124;43m\"\u001b[39;49m\u001b[38;5;124;43mallow-nan\u001b[39;49m\u001b[38;5;124;43m\"\u001b[39;49m\u001b[43m,\u001b[49m\n\u001b[1;32m    936\u001b[0m \u001b[43m    \u001b[49m\u001b[43mreset\u001b[49m\u001b[38;5;241;43m=\u001b[39;49m\u001b[43mfirst_call\u001b[49m\u001b[43m,\u001b[49m\n\u001b[1;32m    937\u001b[0m \u001b[43m\u001b[49m\u001b[43m)\u001b[49m\n\u001b[1;32m    938\u001b[0m n_features \u001b[38;5;241m=\u001b[39m X\u001b[38;5;241m.\u001b[39mshape[\u001b[38;5;241m1\u001b[39m]\n\u001b[1;32m    940\u001b[0m \u001b[38;5;28;01mif\u001b[39;00m sample_weight \u001b[38;5;129;01mis\u001b[39;00m \u001b[38;5;129;01mnot\u001b[39;00m \u001b[38;5;28;01mNone\u001b[39;00m:\n",
      "File \u001b[0;32m~/anaconda3/envs/iw2025/lib/python3.9/site-packages/sklearn/utils/validation.py:2944\u001b[0m, in \u001b[0;36mvalidate_data\u001b[0;34m(_estimator, X, y, reset, validate_separately, skip_check_array, **check_params)\u001b[0m\n\u001b[1;32m   2942\u001b[0m         out \u001b[38;5;241m=\u001b[39m X, y\n\u001b[1;32m   2943\u001b[0m \u001b[38;5;28;01melif\u001b[39;00m \u001b[38;5;129;01mnot\u001b[39;00m no_val_X \u001b[38;5;129;01mand\u001b[39;00m no_val_y:\n\u001b[0;32m-> 2944\u001b[0m     out \u001b[38;5;241m=\u001b[39m \u001b[43mcheck_array\u001b[49m\u001b[43m(\u001b[49m\u001b[43mX\u001b[49m\u001b[43m,\u001b[49m\u001b[43m \u001b[49m\u001b[43minput_name\u001b[49m\u001b[38;5;241;43m=\u001b[39;49m\u001b[38;5;124;43m\"\u001b[39;49m\u001b[38;5;124;43mX\u001b[39;49m\u001b[38;5;124;43m\"\u001b[39;49m\u001b[43m,\u001b[49m\u001b[43m \u001b[49m\u001b[38;5;241;43m*\u001b[39;49m\u001b[38;5;241;43m*\u001b[39;49m\u001b[43mcheck_params\u001b[49m\u001b[43m)\u001b[49m\n\u001b[1;32m   2945\u001b[0m \u001b[38;5;28;01melif\u001b[39;00m no_val_X \u001b[38;5;129;01mand\u001b[39;00m \u001b[38;5;129;01mnot\u001b[39;00m no_val_y:\n\u001b[1;32m   2946\u001b[0m     out \u001b[38;5;241m=\u001b[39m _check_y(y, \u001b[38;5;241m*\u001b[39m\u001b[38;5;241m*\u001b[39mcheck_params)\n",
      "File \u001b[0;32m~/anaconda3/envs/iw2025/lib/python3.9/site-packages/sklearn/utils/validation.py:931\u001b[0m, in \u001b[0;36mcheck_array\u001b[0;34m(array, accept_sparse, accept_large_sparse, dtype, order, copy, force_writeable, force_all_finite, ensure_all_finite, ensure_non_negative, ensure_2d, allow_nd, ensure_min_samples, ensure_min_features, estimator, input_name)\u001b[0m\n\u001b[1;32m    927\u001b[0m pandas_requires_conversion \u001b[38;5;241m=\u001b[39m \u001b[38;5;28many\u001b[39m(\n\u001b[1;32m    928\u001b[0m     _pandas_dtype_needs_early_conversion(i) \u001b[38;5;28;01mfor\u001b[39;00m i \u001b[38;5;129;01min\u001b[39;00m dtypes_orig\n\u001b[1;32m    929\u001b[0m )\n\u001b[1;32m    930\u001b[0m \u001b[38;5;28;01mif\u001b[39;00m \u001b[38;5;28mall\u001b[39m(\u001b[38;5;28misinstance\u001b[39m(dtype_iter, np\u001b[38;5;241m.\u001b[39mdtype) \u001b[38;5;28;01mfor\u001b[39;00m dtype_iter \u001b[38;5;129;01min\u001b[39;00m dtypes_orig):\n\u001b[0;32m--> 931\u001b[0m     dtype_orig \u001b[38;5;241m=\u001b[39m \u001b[43mnp\u001b[49m\u001b[38;5;241;43m.\u001b[39;49m\u001b[43mresult_type\u001b[49m\u001b[43m(\u001b[49m\u001b[38;5;241;43m*\u001b[39;49m\u001b[43mdtypes_orig\u001b[49m\u001b[43m)\u001b[49m\n\u001b[1;32m    932\u001b[0m \u001b[38;5;28;01melif\u001b[39;00m pandas_requires_conversion \u001b[38;5;129;01mand\u001b[39;00m \u001b[38;5;28many\u001b[39m(d \u001b[38;5;241m==\u001b[39m \u001b[38;5;28mobject\u001b[39m \u001b[38;5;28;01mfor\u001b[39;00m d \u001b[38;5;129;01min\u001b[39;00m dtypes_orig):\n\u001b[1;32m    933\u001b[0m     \u001b[38;5;66;03m# Force object if any of the dtypes is an object\u001b[39;00m\n\u001b[1;32m    934\u001b[0m     dtype_orig \u001b[38;5;241m=\u001b[39m \u001b[38;5;28mobject\u001b[39m\n",
      "\u001b[0;31mValueError\u001b[0m: at least one array or dtype is required"
     ]
    }
   ],
   "source": [
    "# Handle missing values\n",
    "X_train_clean = X_train.fillna(X_train.median())\n",
    "\n",
    "# Remove infinite values\n",
    "X_train_clean = X_train_clean.replace([np.inf, -np.inf], np.nan)\n",
    "X_train_clean = X_train_clean.fillna(X_train_clean.median())\n",
    "\n",
    "print(\"Cleaned training data shape:\", X_train_clean.shape)\n",
    "print(\"Remaining missing values:\", X_train_clean.isnull().sum().sum())\n",
    "\n",
    "# Scale features\n",
    "scaler = StandardScaler()\n",
    "X_train_scaled = scaler.fit_transform(X_train_clean)\n",
    "X_train_scaled = pd.DataFrame(X_train_scaled, columns=X_train_clean.columns)\n",
    "\n",
    "print(\"\\nFeatures after scaling:\")\n",
    "print(X_train_scaled.describe())"
   ]
  },
  {
   "cell_type": "markdown",
   "id": "94cd58ca",
   "metadata": {},
   "source": [
    "## 7. Model Training"
   ]
  },
  {
   "cell_type": "code",
   "execution_count": null,
   "id": "8f25acac",
   "metadata": {},
   "outputs": [],
   "source": [
    "# Split training data for validation\n",
    "X_train_split, X_val_split, y_train_split, y_val_split = train_test_split(\n",
    "    X_train_scaled, y_train, test_size=0.2, random_state=42, stratify=y_train\n",
    ")\n",
    "\n",
    "print(f\"Training split: {X_train_split.shape[0]} samples\")\n",
    "print(f\"Validation split: {X_val_split.shape[0]} samples\")\n",
    "\n",
    "# Train Random Forest classifier\n",
    "rf_model = RandomForestClassifier(\n",
    "    n_estimators=100,\n",
    "    max_depth=10,\n",
    "    min_samples_split=5,\n",
    "    min_samples_leaf=2,\n",
    "    random_state=42,\n",
    "    n_jobs=-1\n",
    ")\n",
    "\n",
    "print(\"Training Random Forest model...\")\n",
    "rf_model.fit(X_train_split, y_train_split)\n",
    "\n",
    "# Validate on holdout set\n",
    "y_val_pred = rf_model.predict(X_val_split)\n",
    "val_accuracy = accuracy_score(y_val_split, y_val_pred)\n",
    "\n",
    "print(f\"\\nValidation Accuracy: {val_accuracy:.4f}\")\n",
    "print(\"\\nValidation Classification Report:\")\n",
    "print(classification_report(y_val_split, y_val_pred))"
   ]
  },
  {
   "cell_type": "code",
   "execution_count": null,
   "id": "f741484e",
   "metadata": {},
   "outputs": [],
   "source": [
    "# Feature importance analysis\n",
    "feature_importance = pd.DataFrame({\n",
    "    'feature': X_train_scaled.columns,\n",
    "    'importance': rf_model.feature_importances_\n",
    "}).sort_values('importance', ascending=False)\n",
    "\n",
    "plt.figure(figsize=(10, 8))\n",
    "sns.barplot(data=feature_importance.head(15), x='importance', y='feature')\n",
    "plt.title('Top 15 Most Important Features')\n",
    "plt.xlabel('Feature Importance')\n",
    "plt.tight_layout()\n",
    "plt.show()\n",
    "\n",
    "print(\"Top 10 most important features:\")\n",
    "print(feature_importance.head(10))"
   ]
  },
  {
   "cell_type": "markdown",
   "id": "b017b819",
   "metadata": {},
   "source": [
    "## 8. Test Data Processing and Prediction"
   ]
  },
  {
   "cell_type": "code",
   "execution_count": null,
   "id": "f08b40cc",
   "metadata": {},
   "outputs": [],
   "source": [
    "def load_test_data():\n",
    "    \"\"\"\n",
    "    Load all test data and extract features\n",
    "    \"\"\"\n",
    "    test_features = []\n",
    "    test_session_names = []\n",
    "    \n",
    "    # Get all test files\n",
    "    test_files = []\n",
    "    for user_dir in os.listdir('test_files'):\n",
    "        user_path = os.path.join('test_files', user_dir)\n",
    "        if os.path.isdir(user_path):\n",
    "            for session_file in os.listdir(user_path):\n",
    "                test_files.append(os.path.join(user_path, session_file))\n",
    "    \n",
    "    print(f\"Found {len(test_files)} test sessions\")\n",
    "    \n",
    "    for i, file_path in enumerate(test_files):\n",
    "        session_name = os.path.basename(file_path)\n",
    "        features = extract_features_from_session(file_path)\n",
    "        \n",
    "        if features is not None:\n",
    "            test_features.append(features)\n",
    "            test_session_names.append(session_name)\n",
    "        \n",
    "        if (i + 1) % 50 == 0:\n",
    "            print(f\"Processed {i + 1}/{len(test_files)} test files\")\n",
    "    \n",
    "    # Convert to DataFrame\n",
    "    features_df = pd.DataFrame(test_features)\n",
    "    \n",
    "    print(f\"\\nSuccessfully extracted features from {len(features_df)} test sessions\")\n",
    "    \n",
    "    return features_df, test_session_names\n",
    "\n",
    "# Load test data\n",
    "X_test, test_session_names = load_test_data()"
   ]
  },
  {
   "cell_type": "code",
   "execution_count": null,
   "id": "699ac8f8",
   "metadata": {},
   "outputs": [],
   "source": [
    "# Preprocess test data (same as training)\n",
    "X_test_clean = X_test.fillna(X_train.median())  # Use training medians\n",
    "X_test_clean = X_test_clean.replace([np.inf, -np.inf], np.nan)\n",
    "X_test_clean = X_test_clean.fillna(X_train.median())\n",
    "\n",
    "# Ensure test data has same columns as training data\n",
    "missing_cols = set(X_train_clean.columns) - set(X_test_clean.columns)\n",
    "for col in missing_cols:\n",
    "    X_test_clean[col] = 0\n",
    "\n",
    "# Reorder columns to match training data\n",
    "X_test_clean = X_test_clean[X_train_clean.columns]\n",
    "\n",
    "# Scale test data using training scaler\n",
    "X_test_scaled = scaler.transform(X_test_clean)\n",
    "X_test_scaled = pd.DataFrame(X_test_scaled, columns=X_train_clean.columns)\n",
    "\n",
    "print(f\"Test data shape: {X_test_scaled.shape}\")\n",
    "print(f\"Training data shape: {X_train_scaled.shape}\")"
   ]
  },
  {
   "cell_type": "markdown",
   "id": "4f4cf827",
   "metadata": {},
   "source": [
    "## 9. Make Predictions"
   ]
  },
  {
   "cell_type": "code",
   "execution_count": null,
   "id": "091dbd76",
   "metadata": {},
   "outputs": [],
   "source": [
    "# Train final model on all training data\n",
    "print(\"Training final model on all training data...\")\n",
    "final_model = RandomForestClassifier(\n",
    "    n_estimators=100,\n",
    "    max_depth=10,\n",
    "    min_samples_split=5,\n",
    "    min_samples_leaf=2,\n",
    "    random_state=42,\n",
    "    n_jobs=-1\n",
    ")\n",
    "\n",
    "final_model.fit(X_train_scaled, y_train)\n",
    "\n",
    "# Make predictions on test data\n",
    "test_predictions = final_model.predict(X_test_scaled)\n",
    "test_probabilities = final_model.predict_proba(X_test_scaled)[:, 1]  # Probability of illegal\n",
    "\n",
    "print(f\"\\nTest predictions summary:\")\n",
    "print(f\"Predicted legal sessions: {(test_predictions == 0).sum()}\")\n",
    "print(f\"Predicted illegal sessions: {(test_predictions == 1).sum()}\")\n",
    "print(f\"Total test sessions: {len(test_predictions)}\")"
   ]
  },
  {
   "cell_type": "markdown",
   "id": "4d89c5c4",
   "metadata": {},
   "source": [
    "## 10. Results Analysis and Export"
   ]
  },
  {
   "cell_type": "code",
   "execution_count": null,
   "id": "bee92eb4",
   "metadata": {},
   "outputs": [],
   "source": [
    "# Create results DataFrame\n",
    "results_df = pd.DataFrame({\n",
    "    'filename': test_session_names,\n",
    "    'predicted_is_illegal': test_predictions,\n",
    "    'illegal_probability': test_probabilities\n",
    "})\n",
    "\n",
    "# Compare with public labels where available\n",
    "public_test_results = results_df.merge(labels_df, on='filename', how='inner')\n",
    "\n",
    "if len(public_test_results) > 0:\n",
    "    public_accuracy = accuracy_score(public_test_results['is_illegal'], \n",
    "                                   public_test_results['predicted_is_illegal'])\n",
    "    print(f\"\\nAccuracy on public test data: {public_accuracy:.4f}\")\n",
    "    \n",
    "    print(\"\\nConfusion Matrix on public test data:\")\n",
    "    cm = confusion_matrix(public_test_results['is_illegal'], \n",
    "                         public_test_results['predicted_is_illegal'])\n",
    "    print(cm)\n",
    "    \n",
    "    print(\"\\nClassification Report on public test data:\")\n",
    "    print(classification_report(public_test_results['is_illegal'], \n",
    "                               public_test_results['predicted_is_illegal']))\n",
    "else:\n",
    "    print(\"No overlap between test predictions and public labels found.\")\n",
    "\n",
    "# Display sample predictions\n",
    "print(\"\\nSample predictions:\")\n",
    "print(results_df.head(10))"
   ]
  },
  {
   "cell_type": "code",
   "execution_count": null,
   "id": "fccc1bdb",
   "metadata": {},
   "outputs": [],
   "source": [
    "# Save predictions to CSV\n",
    "results_df.to_csv('test_predictions.csv', index=False)\n",
    "print(\"Predictions saved to 'test_predictions.csv'\")\n",
    "\n",
    "# Save detailed results for public sessions\n",
    "if len(public_test_results) > 0:\n",
    "    public_test_results.to_csv('public_test_results.csv', index=False)\n",
    "    print(\"Public test results saved to 'public_test_results.csv'\")\n",
    "\n",
    "print(\"\\nModel training and testing completed successfully!\")"
   ]
  },
  {
   "cell_type": "markdown",
   "id": "52b6401f",
   "metadata": {},
   "source": [
    "## 11. Model Evaluation and Insights"
   ]
  },
  {
   "cell_type": "code",
   "execution_count": null,
   "id": "3933e14d",
   "metadata": {},
   "outputs": [],
   "source": [
    "# Feature importance visualization\n",
    "plt.figure(figsize=(12, 8))\n",
    "feature_importance_final = pd.DataFrame({\n",
    "    'feature': X_train_scaled.columns,\n",
    "    'importance': final_model.feature_importances_\n",
    "}).sort_values('importance', ascending=False)\n",
    "\n",
    "plt.subplot(2, 1, 1)\n",
    "sns.barplot(data=feature_importance_final.head(10), x='importance', y='feature')\n",
    "plt.title('Top 10 Most Important Features for Classification')\n",
    "plt.xlabel('Feature Importance')\n",
    "\n",
    "# Prediction confidence distribution\n",
    "plt.subplot(2, 1, 2)\n",
    "plt.hist(test_probabilities, bins=50, alpha=0.7)\n",
    "plt.title('Distribution of Prediction Confidence (Probability of Illegal)')\n",
    "plt.xlabel('Probability of Illegal Session')\n",
    "plt.ylabel('Frequency')\n",
    "\n",
    "plt.tight_layout()\n",
    "plt.show()\n",
    "\n",
    "print(\"\\nModel evaluation complete!\")\n",
    "print(f\"Final model trained on {len(X_train_scaled)} sessions\")\n",
    "print(f\"Predictions made for {len(test_session_names)} test sessions\")"
   ]
  }
 ],
 "metadata": {
  "kernelspec": {
   "display_name": "iw2025",
   "language": "python",
   "name": "python3"
  },
  "language_info": {
   "codemirror_mode": {
    "name": "ipython",
    "version": 3
   },
   "file_extension": ".py",
   "mimetype": "text/x-python",
   "name": "python",
   "nbconvert_exporter": "python",
   "pygments_lexer": "ipython3",
   "version": "3.9.23"
  }
 },
 "nbformat": 4,
 "nbformat_minor": 5
}
